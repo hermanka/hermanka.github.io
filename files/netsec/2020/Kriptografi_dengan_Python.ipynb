{
  "nbformat": 4,
  "nbformat_minor": 0,
  "metadata": {
    "colab": {
      "name": "Kriptografi dengan Python.ipynb",
      "provenance": []
    },
    "kernelspec": {
      "name": "python3",
      "display_name": "Python 3"
    }
  },
  "cells": [
    {
      "cell_type": "markdown",
      "metadata": {
        "id": "VEwoshqsqlxV",
        "colab_type": "text"
      },
      "source": [
        "Setiap bahasa pemrograman menyediakan library dukungan terhadap kriptografi, termasuk bahasa pemrograman Python. Dengan Library, memudahkan kita untuk mengimplementasikan algoritma-algoritma kriptografi tanpa harus membuatnya dari awal.\n",
        "\n",
        "Jalankan kode-kode berikut satu-persatu kemudian kerjakan latihan yang diberikan."
      ]
    },
    {
      "cell_type": "markdown",
      "metadata": {
        "id": "D6lgpvxsTkA6",
        "colab_type": "text"
      },
      "source": [
        "# **Install library-library yang dibutuhkan**\n",
        "\n",
        "Beberapa library yang dibutuhkan antara lain cryptography, pycryptodome dan pycryptodomex"
      ]
    },
    {
      "cell_type": "markdown",
      "metadata": {
        "id": "jo0t7HcochiU",
        "colab_type": "text"
      },
      "source": [
        "1. Install library cryptography"
      ]
    },
    {
      "cell_type": "code",
      "metadata": {
        "id": "_aftSvHTS7co",
        "colab_type": "code",
        "colab": {}
      },
      "source": [
        "!pip install cryptography"
      ],
      "execution_count": null,
      "outputs": []
    },
    {
      "cell_type": "markdown",
      "metadata": {
        "id": "n9AkGsTccky4",
        "colab_type": "text"
      },
      "source": [
        "2. Install library pycryptodomex"
      ]
    },
    {
      "cell_type": "code",
      "metadata": {
        "id": "goWeOJ_WTFp0",
        "colab_type": "code",
        "colab": {}
      },
      "source": [
        "!pip install pycryptodomex"
      ],
      "execution_count": null,
      "outputs": []
    },
    {
      "cell_type": "markdown",
      "metadata": {
        "id": "IOmqRSdvcsAj",
        "colab_type": "text"
      },
      "source": [
        "3. Install library pycryptodome"
      ]
    },
    {
      "cell_type": "code",
      "metadata": {
        "id": "qIQTXdZ7TUtS",
        "colab_type": "code",
        "colab": {}
      },
      "source": [
        "!pip install pycryptodome"
      ],
      "execution_count": null,
      "outputs": []
    },
    {
      "cell_type": "markdown",
      "metadata": {
        "id": "TB76BwySca2-",
        "colab_type": "text"
      },
      "source": [
        "4. Contoh hash plainteks menggunakan algoritma SHA256 dan MD5"
      ]
    },
    {
      "cell_type": "code",
      "metadata": {
        "id": "zUdRyyIcShqR",
        "colab_type": "code",
        "colab": {}
      },
      "source": [
        "# import library SHA256\n",
        "from Crypto.Hash import SHA256\n",
        "from Crypto.Hash import MD5\n",
        "\n",
        "# Hash string \"abc\" menggunakan algoritma SHA256\n",
        "str = b'ini adalah pesan asli' \n",
        "print(\"Plainteks : \", str.decode())\n",
        "d1 = SHA256.new()\n",
        "d1.update(str)\n",
        "print(\"SHA256 Hash : \", d1.hexdigest())\n",
        "\n",
        "# Hash string \"abc\" menggunakan algoritma MD5\n",
        "d2 = MD5.new()\n",
        "d2.update(str)\n",
        "print(\"MD5 Hash : \", d2.hexdigest())\n",
        "\n"
      ],
      "execution_count": null,
      "outputs": []
    },
    {
      "cell_type": "markdown",
      "metadata": {
        "id": "5dNhj6v23lFg",
        "colab_type": "text"
      },
      "source": [
        "5. Cara hash dapat lebih disederhanakan lagi"
      ]
    },
    {
      "cell_type": "code",
      "metadata": {
        "id": "kqjsTTZd3P75",
        "colab_type": "code",
        "colab": {}
      },
      "source": [
        "hash_object = SHA256.new(data=str)\n",
        "print(hash_object.hexdigest())"
      ],
      "execution_count": null,
      "outputs": []
    },
    {
      "cell_type": "markdown",
      "metadata": {
        "id": "i2fnUiha3yLd",
        "colab_type": "text"
      },
      "source": [
        "6. Berikut ini prinsip kerja hash pada library pycryptodome\n",
        "<br><img src=\"https://pycryptodome.readthedocs.io/en/latest/_images/hashing.png\" width=\"400\">"
      ]
    },
    {
      "cell_type": "markdown",
      "metadata": {
        "id": "odhw35uw5FXi",
        "colab_type": "text"
      },
      "source": [
        "7. Method update() dapat dipanggil beberapa kali sesuai kebutuhan, dengan potongan teks lainnya"
      ]
    },
    {
      "cell_type": "code",
      "metadata": {
        "id": "UiC02m515OMw",
        "colab_type": "code",
        "colab": {}
      },
      "source": [
        "hash_object = SHA256.new()\n",
        "hash_object.update(b'Satu')\n",
        "hash_object.update(b'Dua')\n",
        "print(hash_object.hexdigest())"
      ],
      "execution_count": null,
      "outputs": []
    },
    {
      "cell_type": "markdown",
      "metadata": {
        "id": "XbG17NqQ5lzt",
        "colab_type": "text"
      },
      "source": [
        "> Potongan kode diatas menghasilkan hash yang sama dengan kode dibawah\n",
        "\n",
        "\n",
        "\n"
      ]
    },
    {
      "cell_type": "code",
      "metadata": {
        "id": "-jRVVuJ15qnt",
        "colab_type": "code",
        "colab": {}
      },
      "source": [
        "hash_object = SHA256.new()\n",
        "hash_object.update(b'SatuDua')\n",
        "print(hash_object.hexdigest())"
      ],
      "execution_count": null,
      "outputs": []
    },
    {
      "cell_type": "markdown",
      "metadata": {
        "id": "EqASuw1W7ILo",
        "colab_type": "text"
      },
      "source": [
        "> Dokumentasi lengkap PyCryptodome dapat dibaca pada tautan [https://pycryptodome.readthedocs.io/en/latest/](https://pycryptodome.readthedocs.io/en/latest/)\n",
        "\n"
      ]
    },
    {
      "cell_type": "markdown",
      "metadata": {
        "id": "eRWaP0J6ZZmr",
        "colab_type": "text"
      },
      "source": [
        "# **Enkripsi dengan algoritma AES**\n",
        "\n",
        "AES adalah salah satu algoritma kriptografi modern yang dan merupakan standar enkripsi dengan kunci-simetris"
      ]
    },
    {
      "cell_type": "markdown",
      "metadata": {
        "id": "KdT1dTRxa0gb",
        "colab_type": "text"
      },
      "source": [
        "1. Membangkitkan kunci 32 byte / 256 bit"
      ]
    },
    {
      "cell_type": "code",
      "metadata": {
        "id": "1C_4SfybZcZu",
        "colab_type": "code",
        "colab": {}
      },
      "source": [
        "from Crypto.Random import get_random_bytes\n",
        "\n",
        "key_location = \"my_key.bin\"\n",
        "# membangkitkan kunci\n",
        "key = get_random_bytes(32)"
      ],
      "execution_count": null,
      "outputs": []
    },
    {
      "cell_type": "markdown",
      "metadata": {
        "id": "favWf_rAa_-u",
        "colab_type": "text"
      },
      "source": [
        "2. Menyimpan kunci pada file"
      ]
    },
    {
      "cell_type": "code",
      "metadata": {
        "id": "3fGLeCiYbCyl",
        "colab_type": "code",
        "colab": {}
      },
      "source": [
        "file_out = open(key_location, \"wb\") # wb = write bytes\n",
        "file_out.write(key)\n",
        "file_out.close()"
      ],
      "execution_count": null,
      "outputs": []
    },
    {
      "cell_type": "markdown",
      "metadata": {
        "id": "ot74lx0ebYww",
        "colab_type": "text"
      },
      "source": [
        "3. Enkripsi"
      ]
    },
    {
      "cell_type": "code",
      "metadata": {
        "id": "_6fYaw3sbZ3i",
        "colab_type": "code",
        "colab": {}
      },
      "source": [
        "from Crypto.Util.Padding import pad\n",
        "\n",
        "# Membaca file kunci\n",
        "file_in = open(key_location, \"rb\") # rb = Read bytes\n",
        "key_from_file = file_in.read()\n",
        "file_in.close()\n",
        "\n",
        "output_file = 'encrypted.bin' # file output / cipherteks\n",
        "data_to_encrypt = 'Politeknik Siber dan Sandi Negara' # Must be a bytes object\n",
        "data = data_to_encrypt.encode()\n",
        "# membuat cipher object dengan mode CBC\n",
        "cipher = AES.new(key_from_file, AES.MODE_CBC)\n",
        "\n",
        "# lakukan pad pada input data kemudian enkrip\n",
        "ciphered_data = cipher.encrypt(pad(data, AES.block_size))\n",
        "\n",
        "# membuat file output\n",
        "file_out = open(output_file, \"wb\") \n",
        "file_out.write(cipher.iv)\n",
        "file_out.write(ciphered_data)\n",
        "file_out.close()"
      ],
      "execution_count": null,
      "outputs": []
    },
    {
      "cell_type": "markdown",
      "metadata": {
        "id": "KwzRsRGjtekK",
        "colab_type": "text"
      },
      "source": [
        "File output tersimpan di jendela \"File\". \n",
        "Buka jendela \"File\" di navigasi sebelah kiri (klik refresh pada navigasi apabila tidak muncul)\n",
        "\n",
        "![teks alternatif](data:image/png;base64,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)"
      ]
    },
    {
      "cell_type": "markdown",
      "metadata": {
        "id": "pbW_IjHrb7Ja",
        "colab_type": "text"
      },
      "source": [
        "4. Dekripsi"
      ]
    },
    {
      "cell_type": "code",
      "metadata": {
        "id": "uTnb1zDFb8Ml",
        "colab_type": "code",
        "colab": {}
      },
      "source": [
        "from Crypto.Cipher import AES\n",
        "from Crypto.Util.Padding import unpad\n",
        "\n",
        "# Membaca file kunci\n",
        "file_in = open(key_location, \"rb\") # rb = Read bytes\n",
        "key_from_file = file_in.read()\n",
        "file_in.close()\n",
        "\n",
        "input_file = 'encrypted.bin' # Input file\n",
        "\n",
        "# baca data input_file\n",
        "file_in = open(input_file, 'rb')\n",
        "iv = file_in.read(16)\n",
        "ciphered_data = file_in.read()\n",
        "file_in.close()\n",
        "\n",
        "# setup cipher dengan mode CBC\n",
        "cipher = AES.new(key_from_file, AES.MODE_CBC, iv=iv)\n",
        "\n",
        "# dekrip cipher kemudian unpad\n",
        "original_data = unpad(cipher.decrypt(ciphered_data), AES.block_size)\n",
        "print(original_data.decode())"
      ],
      "execution_count": null,
      "outputs": []
    },
    {
      "cell_type": "markdown",
      "metadata": {
        "id": "IRFlU6gleOuc",
        "colab_type": "text"
      },
      "source": [
        "**Soal latihan 1**\n",
        "\n",
        "1. Gunakan mode lain (CFB atau EAX) untuk enkripsi teks dengan algoritma AES"
      ]
    },
    {
      "cell_type": "code",
      "metadata": {
        "id": "aBQiid3YebFY",
        "colab_type": "code",
        "colab": {}
      },
      "source": [
        "# tulis kode jawaban nomor 1 disini"
      ],
      "execution_count": null,
      "outputs": []
    },
    {
      "cell_type": "markdown",
      "metadata": {
        "id": "lfBRhFN6enxf",
        "colab_type": "text"
      },
      "source": [
        "2. Gunakan mode lain (CFB atau EAX) untuk dekripsi cipherteks dengan algoritma AES"
      ]
    },
    {
      "cell_type": "code",
      "metadata": {
        "id": "6Z36THX3err_",
        "colab_type": "code",
        "colab": {}
      },
      "source": [
        "# tulis kode jawaban nomor 2 disini"
      ],
      "execution_count": null,
      "outputs": []
    },
    {
      "cell_type": "markdown",
      "metadata": {
        "id": "CRhe0CplorgN",
        "colab_type": "text"
      },
      "source": [
        "# **Enkripsi dengan Algoritma RSA**\n",
        "\n",
        "Algoritma RSA merupakan salah satu algoritma kriptografi kunci publik yang populer dipakai dan bahkan masih dipakai hingga saat ini. Proses dimulai dengan membangkitkan pasangan kunci."
      ]
    },
    {
      "cell_type": "markdown",
      "metadata": {
        "colab_type": "text",
        "id": "BT7Slq0bo6hQ"
      },
      "source": [
        "1. Membangkitkan pasangan kunci publik dan kunci privat dengan algoritma RSA"
      ]
    },
    {
      "cell_type": "code",
      "metadata": {
        "colab_type": "code",
        "id": "jpaVNcrFo8eq",
        "colab": {}
      },
      "source": [
        "from Crypto.PublicKey import RSA\n",
        "\n",
        "# kunci privat dibangkitkan random\n",
        "key = RSA.generate(2048)\n",
        "private_key = key.export_key()\n",
        "file_out = open(\"private.pem\", \"wb\")\n",
        "file_out.write(private_key)\n",
        "file_out.close()\n",
        "\n",
        "# kunci publik\n",
        "public_key = key.publickey().export_key()\n",
        "file_out = open(\"public.pem\", \"wb\")\n",
        "file_out.write(public_key)\n",
        "file_out.close()"
      ],
      "execution_count": null,
      "outputs": []
    },
    {
      "cell_type": "markdown",
      "metadata": {
        "id": "RzNBLh84pB0W",
        "colab_type": "text"
      },
      "source": [
        "2. Enkripsi"
      ]
    },
    {
      "cell_type": "code",
      "metadata": {
        "id": "2VwLVSDrn4s7",
        "colab_type": "code",
        "colab": {}
      },
      "source": [
        "from Crypto.PublicKey import RSA\n",
        "from Crypto.Random import get_random_bytes\n",
        "from Crypto.Cipher import AES, PKCS1_OAEP\n",
        "\n",
        "data = \"Kemarin saya ketemu alien, ternyata dia bisa bicara bahasa Indonesia!\".encode()\n",
        "file_out = open(\"encrypted_data2.bin\", \"wb\")\n",
        "\n",
        "recipient_key = RSA.import_key(open(\"public.pem\").read())\n",
        "session_key = get_random_bytes(16)\n",
        "\n",
        "# enkripsi session key menggunakan kunci publik RSA\n",
        "cipher_rsa = PKCS1_OAEP.new(recipient_key)\n",
        "cipher_data = cipher_rsa.encrypt(data)\n",
        "\n",
        "file_out.write(cipher_data)\n",
        "file_out.close()"
      ],
      "execution_count": null,
      "outputs": []
    },
    {
      "cell_type": "markdown",
      "metadata": {
        "id": "htVmny6GpJHK",
        "colab_type": "text"
      },
      "source": [
        "3. Dekripsi"
      ]
    },
    {
      "cell_type": "code",
      "metadata": {
        "id": "6flMFiNdoUxD",
        "colab_type": "code",
        "colab": {}
      },
      "source": [
        "from Crypto.PublicKey import RSA\n",
        "from Crypto.Cipher import AES, PKCS1_OAEP\n",
        "\n",
        "file_in = open(\"encrypted_data2.bin\", \"rb\")\n",
        "\n",
        "private_key = RSA.import_key(open(\"private.pem\").read())\n",
        "\n",
        "# dekripsi session_key menggunakan kunci privat RSA\n",
        "cipher_rsa = PKCS1_OAEP.new(private_key)\n",
        "plain_data = cipher_rsa.decrypt(file_in.read())\n",
        "\n",
        "# dekripsi cipherteks (AES) menggunakan session key yang telah didekripsi\n",
        "print(plain_data.decode())"
      ],
      "execution_count": null,
      "outputs": []
    },
    {
      "cell_type": "markdown",
      "metadata": {
        "id": "Cpq3F4L3jyDh",
        "colab_type": "text"
      },
      "source": [
        "# **Algoritma Hybrid (RSA x AES)**\n",
        "\n",
        "Contoh berikut adalah penggunaan algoritma RSA yang digabungkan dengan algoritma AES. Algoritma RSA digunakan untuk enkripsi kunci AES."
      ]
    },
    {
      "cell_type": "markdown",
      "metadata": {
        "id": "le2ZVxValWvD",
        "colab_type": "text"
      },
      "source": [
        "1. Gunakan kunci sebelumnya untuk enkripsi teks"
      ]
    },
    {
      "cell_type": "code",
      "metadata": {
        "id": "mDQhr774kwVC",
        "colab_type": "code",
        "colab": {}
      },
      "source": [
        "from Crypto.PublicKey import RSA\n",
        "from Crypto.Random import get_random_bytes\n",
        "from Crypto.Cipher import AES, PKCS1_OAEP\n",
        "\n",
        "data = \"Kemarin saya ketemu alien, ternyata dia bisa bicara bahasa Indonesia!\".encode()\n",
        "file_out = open(\"encrypted_data.bin\", \"wb\")\n",
        "\n",
        "recipient_key = RSA.import_key(open(\"public.pem\").read())\n",
        "session_key = get_random_bytes(16)\n",
        "\n",
        "# enkripsi session key menggunakan kunci publik RSA\n",
        "cipher_rsa = PKCS1_OAEP.new(recipient_key)\n",
        "enc_session_key = cipher_rsa.encrypt(session_key)\n",
        "\n",
        "# enkripsi data dengan AES mode EAX\n",
        "cipher_aes = AES.new(session_key, AES.MODE_EAX)\n",
        "ciphertext, tag = cipher_aes.encrypt_and_digest(data)\n",
        "[ file_out.write(x) for x in (enc_session_key, cipher_aes.nonce, tag, ciphertext) ]\n",
        "file_out.close()"
      ],
      "execution_count": null,
      "outputs": []
    },
    {
      "cell_type": "markdown",
      "metadata": {
        "id": "IufbzmaznYqe",
        "colab_type": "text"
      },
      "source": [
        "2. Dekripsi teks"
      ]
    },
    {
      "cell_type": "code",
      "metadata": {
        "id": "Jye1Mgqak-2B",
        "colab_type": "code",
        "colab": {}
      },
      "source": [
        "from Crypto.PublicKey import RSA\n",
        "from Crypto.Cipher import AES, PKCS1_OAEP\n",
        "\n",
        "file_in = open(\"encrypted_data.bin\", \"rb\")\n",
        "\n",
        "private_key = RSA.import_key(open(\"private.pem\").read())\n",
        "\n",
        "enc_session_key, nonce, tag, ciphertext = [ file_in.read(x) for x in (private_key.size_in_bytes(), 16, 16, -1) ]\n",
        "\n",
        "# dekripsi session_key menggunakan kunci privat RSA\n",
        "cipher_rsa = PKCS1_OAEP.new(private_key)\n",
        "session_key = cipher_rsa.decrypt(enc_session_key)\n",
        "\n",
        "# dekripsi cipherteks (AES) menggunakan session key yang telah didekripsi\n",
        "cipher_aes = AES.new(session_key, AES.MODE_EAX, nonce)\n",
        "data = cipher_aes.decrypt_and_verify(ciphertext, tag)\n",
        "print(data.decode())"
      ],
      "execution_count": null,
      "outputs": []
    },
    {
      "cell_type": "markdown",
      "metadata": {
        "id": "MBoEtNFUqF3j",
        "colab_type": "text"
      },
      "source": [
        "**Soal Latihan 2**"
      ]
    },
    {
      "cell_type": "markdown",
      "metadata": {
        "id": "es8GXVjYqKV6",
        "colab_type": "text"
      },
      "source": [
        "Buatlah program untuk enkripsi file menggunakan algoritma RSA (bukan hybrid)"
      ]
    },
    {
      "cell_type": "code",
      "metadata": {
        "id": "HC6saR-YqXC2",
        "colab_type": "code",
        "colab": {}
      },
      "source": [
        "# Tuliskan kode jawaban Anda disini"
      ],
      "execution_count": null,
      "outputs": []
    }
  ]
}